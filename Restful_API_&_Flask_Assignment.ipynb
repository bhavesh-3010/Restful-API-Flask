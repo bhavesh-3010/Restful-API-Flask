{
  "nbformat": 4,
  "nbformat_minor": 0,
  "metadata": {
    "colab": {
      "provenance": []
    },
    "kernelspec": {
      "name": "python3",
      "display_name": "Python 3"
    },
    "language_info": {
      "name": "python"
    }
  },
  "cells": [
    {
      "cell_type": "markdown",
      "source": [
        "# Restful API & Flask"
      ],
      "metadata": {
        "id": "zlZcIeYXXfhv"
      }
    },
    {
      "cell_type": "markdown",
      "source": [
        "1.  What is a RESTful API\n",
        "\n",
        "     - A RESTful API (Representational State Transfer API) is a web service that follows REST principles, allowing clients to interact with resources using standard HTTP methods like GET, POST, PUT, and DELETE. It is stateless, meaning each request contains all necessary information without relying on stored server data. RESTful APIs use structured URLs, return data in formats like JSON or XML, and often support CRUD (Create, Read, Update, Delete) operations. They are widely used for building scalable and interoperable web applications."
      ],
      "metadata": {
        "id": "wQvxC8gqXsJR"
      }
    },
    {
      "cell_type": "markdown",
      "source": [
        "2. Explain the concept of API specification?\n",
        "\n",
        "    - An API specification is a detailed document or standard that defines how an API should function, including its endpoints, request and response formats, authentication methods, and error handling. It serves as a contract between the API provider and consumers, ensuring consistency and interoperability. Common API specification formats include OpenAPI (formerly Swagger), RAML, and GraphQL schemas. A well-defined API specification helps developers understand how to integrate with the API, reducing errors and improving efficiency in software development."
      ],
      "metadata": {
        "id": "dEocMYLhX3XM"
      }
    },
    {
      "cell_type": "markdown",
      "source": [
        "3.  What is Flask, and why is it popular for building APIs?\n",
        "\n",
        "      - Flask is a lightweight and flexible Python web framework used for building web applications and APIs. It is popular for API development because of its simplicity, minimalism, and ease of use. Flask follows a modular approach, allowing developers to add extensions for features like authentication, database integration, and request handling as needed. It supports RESTful API development with built-in routing, request parsing, and response formatting. Its popularity also comes from its active community, well-documented resources, and compatibility with libraries like SQLAlchemy for database management. Flask is ideal for small to medium-sized projects that require rapid development and customization."
      ],
      "metadata": {
        "id": "2gtTH0MLYAwx"
      }
    },
    {
      "cell_type": "markdown",
      "source": [
        "4. What is routing in Flask\n",
        "\n",
        "    - Routing in Flask is the process of mapping URLs to specific functions that handle requests and return responses. It is defined using the `@app.route()` decorator, where `app` is the Flask application instance. When a user accesses a specific URL, Flask matches it to the corresponding route and executes the associated function. Routes can handle different HTTP methods like GET, POST, PUT, and DELETE, enabling RESTful API development. Flask also supports dynamic routing, allowing variables in URLs (e.g., `@app.route('/user/<username>')`) to pass data to the function. Routing helps organize web applications by defining clear paths for different functionalities."
      ],
      "metadata": {
        "id": "cxywIatRYJrm"
      }
    },
    {
      "cell_type": "markdown",
      "source": [
        "5. How do you create a simple Flask application?\n",
        "\n",
        "      - To create a simple Flask application, first, install Flask using `pip install flask`. Then, create a Python file (e.g., `app.py`) and import Flask. Initialize a Flask app using `app = Flask(__name__)`. Define a route using the `@app.route('/')` decorator and associate it with a function that returns a response, like `\"Hello, World!\"`. Finally, run the application with `app.run(debug=True)`. This starts a local development server, allowing you to access the application in a web browser at `http://127.0.0.1:5000/`. Flask’s simplicity makes it ideal for quickly building web applications and APIs."
      ],
      "metadata": {
        "id": "utfFhtCoYVtU"
      }
    },
    {
      "cell_type": "markdown",
      "source": [
        "6. What are HTTP methods used in RESTful APIs?\n",
        "\n",
        "     - RESTful APIs use standard HTTP methods to interact with resources. The **GET** method retrieves data without modifying it, while **POST** sends data to create a new resource. **PUT** updates an existing resource by replacing it entirely, whereas **PATCH** modifies only specific parts of a resource. **DELETE** removes a resource from the server. These methods follow CRUD principles (Create, Read, Update, Delete), making RESTful APIs efficient and easy to integrate into web applications."
      ],
      "metadata": {
        "id": "mo_vZqmVYmEu"
      }
    },
    {
      "cell_type": "markdown",
      "source": [
        "7. What is the purpose of the @app.route() decorator in Flask\n",
        "\n",
        "     - The `@app.route()` decorator in Flask is used to define URL routes for handling client requests. It maps a specific URL path to a function that executes when the route is accessed. This allows Flask to determine which function should handle incoming requests for a given endpoint. The decorator can also specify allowed HTTP methods, such as GET or POST. For example, `@app.route('/')` maps the root URL to a function that returns a response, like \"Hello, World!\". This routing mechanism is essential for building web applications and RESTful APIs in Flask."
      ],
      "metadata": {
        "id": "3iAXPT-RYxNe"
      }
    },
    {
      "cell_type": "markdown",
      "source": [
        "8. What is the difference between GET and POST HTTP methods?\n",
        "\n",
        "     - The **GET** and **POST** HTTP methods serve different purposes in RESTful APIs. **GET** is used to retrieve data from a server without modifying it, and its parameters are sent in the URL, making it less secure for sensitive data. It is idempotent, meaning multiple requests produce the same result. **POST**, on the other hand, is used to send data to the server to create a new resource. It includes data in the request body, making it more secure for sensitive information. Unlike GET, POST is not idempotent, as repeated requests can create multiple resources."
      ],
      "metadata": {
        "id": "GGRuCBkxY8la"
      }
    },
    {
      "cell_type": "markdown",
      "source": [
        "9.  How do you handle errors in Flask APIs?\n",
        "\n",
        "       - In Flask APIs, errors are handled using error handlers, try-except blocks, and Flask’s built-in `abort()` function. Custom error handlers can be defined using `@app.errorhandler()` to return structured JSON responses for specific HTTP status codes, such as 404 (Not Found) or 500 (Internal Server Error). Try-except blocks help catch exceptions within route functions and return meaningful error messages. The `abort()` function can be used to manually trigger errors with custom status codes. Proper error handling ensures clear, consistent responses, improving API reliability and user experience."
      ],
      "metadata": {
        "id": "Wj9E6zatZGqu"
      }
    },
    {
      "cell_type": "markdown",
      "source": [
        "10.  How do you connect Flask to a SQL database?\n",
        "\n",
        "      - To connect Flask to a SQL database, you typically use **SQLAlchemy**, Flask’s built-in ORM. First, install it with `pip install flask-sqlalchemy`. Then, in your Flask app, configure the database URL using `app.config['SQLALCHEMY_DATABASE_URI'] = 'sqlite:///database.db'` (for SQLite) or another database like PostgreSQL or MySQL. Initialize the database with `db = SQLAlchemy(app)`, define models as Python classes, and create tables using `db.create_all()`. Queries can be performed using `db.session.add()`, `db.session.commit()`, and `db.session.query()`. This integration enables efficient data storage and retrieval in Flask applications."
      ],
      "metadata": {
        "id": "E-Z_x22KZQxM"
      }
    },
    {
      "cell_type": "markdown",
      "source": [
        "11. What is the role of Flask-SQLAlchemy?\n",
        "\n",
        "      - Flask-SQLAlchemy is an extension for Flask that simplifies database interactions by integrating SQLAlchemy, a powerful Object Relational Mapper (ORM). It provides an easy way to define database models as Python classes, manage database connections, and perform CRUD operations without writing raw SQL queries. Flask-SQLAlchemy handles tasks like session management, migrations, and query execution, making database interactions more efficient and Pythonic. It supports multiple database engines, such as SQLite, PostgreSQL, and MySQL, and helps developers build scalable Flask applications with structured data management."
      ],
      "metadata": {
        "id": "NvpgEa4MZb3X"
      }
    },
    {
      "cell_type": "markdown",
      "source": [
        "12. What are Flask blueprints, and how are they useful?\n",
        "\n",
        "     - Flask **Blueprints** are a way to organize a Flask application into modular components, making it easier to manage large projects. They allow you to define routes, views, and other functionalities in separate files and then register them with the main Flask app. This helps maintain a clean code structure, improve scalability, and enable reusability across multiple applications. For example, different parts of an application, like authentication and user management, can be structured as separate blueprints. Using blueprints simplifies development by keeping the application well-organized and modular."
      ],
      "metadata": {
        "id": "2EXXX83RZjtg"
      }
    },
    {
      "cell_type": "markdown",
      "source": [
        "13. What is the purpose of Flask's request object?\n",
        "\n",
        "     - Flask’s **request** object is used to access incoming HTTP request data, such as form inputs, JSON payloads, headers, query parameters, and cookies. It allows developers to handle user input dynamically in a Flask application. For example, `request.args.get('param')` retrieves query parameters, `request.form['key']` accesses form data, and `request.get_json()` extracts JSON payloads from a request body. The request object also provides metadata like request method (`request.method`) and client IP address (`request.remote_addr`). It is essential for handling user interactions and processing API requests in Flask applications."
      ],
      "metadata": {
        "id": "9hhJ9ta5ZssK"
      }
    },
    {
      "cell_type": "markdown",
      "source": [
        "14.  How do you create a RESTful API endpoint using Flask?\n",
        "\n",
        "       - To create a RESTful API endpoint using Flask, first install Flask with `pip install flask` and create a Python file (e.g., `app.py`). Import `Flask`, `jsonify`, and `request`, then initialize the app with `app = Flask(__name__)`. Define a route using `@app.route('/api/data', methods=['GET'])`, where a function returns a JSON response using `jsonify()`. Finally, run the app with `app.run(debug=True)`, allowing access to the endpoint at `http://127.0.0.1:5000/api/data`. Additional endpoints with methods like POST, PUT, and DELETE can be added for a complete RESTful API."
      ],
      "metadata": {
        "id": "jpBpjJxpaAsG"
      }
    },
    {
      "cell_type": "markdown",
      "source": [
        "15. What is the purpose of Flask's jsonify() function\n",
        "\n",
        "       - Flask’s `jsonify()` function is used to convert Python data structures, such as dictionaries and lists, into a JSON response. It automatically sets the correct `Content-Type` header to `application/json`, ensuring proper API communication. Unlike `json.dumps()`, `jsonify()` handles character encoding and security considerations efficiently. It is commonly used in RESTful APIs to send structured data to clients, making it easy to return responses like `jsonify({\"message\": \"Success\"})`. This function simplifies JSON response handling and improves compatibility with front-end applications and other API consumers."
      ],
      "metadata": {
        "id": "HdebzH2NaNuo"
      }
    },
    {
      "cell_type": "markdown",
      "source": [
        "16.  Explain Flask’s url_for() function?\n",
        "\n",
        "      - Flask’s `url_for()` function is used to dynamically generate URLs for routes based on the function name rather than hardcoding URLs. This makes applications more maintainable and scalable, as changes to route paths only need to be updated in one place. It supports passing arguments for dynamic URLs, such as `url_for('profile', username='john')`, which generates `/profile/john`. Additionally, it can be used to link static files with `url_for('static', filename='style.css')`. By ensuring consistent and flexible URL generation, `url_for()` helps prevent broken links and enhances application structure."
      ],
      "metadata": {
        "id": "u9kLeHKMaX4l"
      }
    },
    {
      "cell_type": "markdown",
      "source": [
        "17.  How does Flask handle static files (CSS, JavaScript, etc.)?\n",
        "\n",
        "      - Flask handles static files like CSS, JavaScript, and images by placing them in a folder named **`static`** within the project directory. These files can be accessed in templates using the `url_for()` function, e.g., `url_for('static', filename='style.css')`, which generates the correct URL path. By default, Flask serves static files from `/static/`, meaning a file located at `static/style.css` is accessible at `http://127.0.0.1:5000/static/style.css`. This approach ensures proper organization and easy referencing of static assets in web applications."
      ],
      "metadata": {
        "id": "0RcaP6Wwaioy"
      }
    },
    {
      "cell_type": "markdown",
      "source": [
        "18. What is an API specification, and how does it help in building a Flask API?\n",
        "\n",
        "       - An **API specification** is a structured document that defines how an API should function, including its endpoints, request and response formats, authentication methods, and error handling. It helps in building a Flask API by serving as a blueprint for development, ensuring consistency and clarity in API design. Tools like **OpenAPI (Swagger)** allow developers to generate interactive documentation, making integration easier for clients. An API specification also facilitates collaboration between frontend and backend teams, improves maintainability, and helps automate testing and validation, leading to a more robust and well-documented Flask API."
      ],
      "metadata": {
        "id": "XggS-vKhauJP"
      }
    },
    {
      "cell_type": "markdown",
      "source": [
        "19. What are HTTP status codes, and why are they important in a Flask API?\n",
        "\n",
        "       - **HTTP status codes** are standardized responses from a server indicating the outcome of a client’s request. They are important in a Flask API because they help communicate success, errors, or required actions to the client. Common status codes include **200 OK** (successful request), **201 Created** (resource successfully created), **400 Bad Request** (invalid input), **401 Unauthorized** (authentication required), **403 Forbidden** (access denied), **404 Not Found** (resource not found), and **500 Internal Server Error** (server-side issue). Using appropriate status codes improves API clarity, aids debugging, and ensures better client-server communication. In Flask, these can be set using `return jsonify(response), 200`."
      ],
      "metadata": {
        "id": "ktWu_oQ_a3DQ"
      }
    },
    {
      "cell_type": "markdown",
      "source": [
        "20. How do you handle POST requests in Flask?\n",
        "\n",
        "     - To handle **POST** requests in Flask, define a route with `methods=['POST']` and use the `request` object to extract data. First, import Flask and `request`, then initialize the app. Define a route like `@app.route('/submit', methods=['POST'])`, and inside the function, access form data with `request.form['key']`, JSON data with `request.get_json()`, or query parameters with `request.args.get('key')`. Process the data and return a response using `jsonify()`. Finally, run the app with `app.run(debug=True)`. Handling POST requests allows Flask APIs to receive and process user input for creating or updating resources."
      ],
      "metadata": {
        "id": "TH4RMjQAbCPX"
      }
    },
    {
      "cell_type": "markdown",
      "source": [
        "21. How would you secure a Flask API?\n",
        "\n",
        "      - To secure a Flask API, implement authentication (e.g., **JWT** or **OAuth**) to verify users, and use **API keys** or **tokens** for access control. Enable **HTTPS** to encrypt data transmission and prevent attacks like man-in-the-middle. Implement **CORS** (Cross-Origin Resource Sharing) to restrict unauthorized cross-origin requests. Use **rate limiting** (e.g., Flask-Limiter) to prevent abuse and **input validation** to protect against SQL injection and XSS attacks. Secure sensitive data with **environment variables** and proper **error handling** to avoid exposing system details. Regular security audits and dependency updates further strengthen API security."
      ],
      "metadata": {
        "id": "qMzE2HOebKjP"
      }
    },
    {
      "cell_type": "markdown",
      "source": [
        "22. What is the significance of the Flask-RESTful extension?\n",
        "\n",
        "      - The **Flask-RESTful** extension simplifies building RESTful APIs in Flask by providing a structured framework for handling requests, responses, and resource management. It enhances Flask with features like class-based views (`Resource`), automatic request parsing (`reqparse`), and improved error handling. With Flask-RESTful, routes are defined using `api.add_resource()`, making API development more organized and scalable. It also supports input validation and serialization, reducing boilerplate code. This extension is particularly useful for building clean, maintainable, and efficient RESTful APIs with Flask."
      ],
      "metadata": {
        "id": "l0wl_ziobUzo"
      }
    },
    {
      "cell_type": "markdown",
      "source": [
        "23. What is the role of Flask’s session object?\n",
        "\n",
        "      - Flask’s **session** object is used to store data across multiple requests for a specific user, maintaining state in an otherwise stateless web application. It works like a dictionary, allowing developers to store and retrieve user-specific information, such as login credentials or preferences. Flask’s session is backed by cookies and signed using a secret key (`app.secret_key`) to ensure security. Unlike regular cookies, session data is encrypted, making it more secure. This is useful for managing user authentication, tracking activity, and maintaining temporary data without requiring a database."
      ],
      "metadata": {
        "id": "MuLZVUnobdAA"
      }
    },
    {
      "cell_type": "markdown",
      "source": [
        "# Practical"
      ],
      "metadata": {
        "id": "z-r3VxMubmpx"
      }
    },
    {
      "cell_type": "code",
      "source": [
        "#1.  How do you create a basic Flask application\n",
        "\n",
        "#To create a basic Flask application, follow these steps:\n",
        "\n",
        "#1. Install Flask: Run pip install flask if you haven’t already.\n",
        "#2. Create a Python file (e.g., app.py) and write the following code:\n",
        "\n",
        "from flask import Flask\n",
        "\n",
        "app = Flask(__name__)\n",
        "\n",
        "@app.route('/')\n",
        "def home():\n",
        "    return \"Hello, Flask!\"\n",
        "\n",
        "if __name__ == '__main__':\n",
        "    app.run(debug=True)\n",
        "#3. Run the application: Execute python app.py in the terminal.\n",
        "#4.Access the app: Open a browser and visit http://127.0.0.1:5000/.\n",
        "#This starts a simple Flask web server that responds with \"Hello, Flask!\" when accessed."
      ],
      "metadata": {
        "id": "kY0-4cTUbp2e"
      },
      "execution_count": 1,
      "outputs": []
    },
    {
      "cell_type": "code",
      "source": [
        "#2. How do you serve static files like images or CSS in Flask\n",
        "\n",
        "from flask import Flask, render_template\n",
        "\n",
        "app = Flask(__name__)\n",
        "\n",
        "@app.route('/')\n",
        "def home():\n",
        "    return render_template('index.html')\n",
        "\n",
        "if __name__ == '__main__':\n",
        "    app.run(debug=True)\n"
      ],
      "metadata": {
        "id": "3i0lr1nXcRBS"
      },
      "execution_count": 2,
      "outputs": []
    },
    {
      "cell_type": "code",
      "source": [
        "#3. How do you define different routes with different HTTP methods in Flask?\n",
        "\n",
        "from flask import Flask, request, jsonify\n",
        "\n",
        "app = Flask(__name__)\n",
        "\n",
        "# GET request - Retrieve data\n",
        "@app.route('/get-data', methods=['GET'])\n",
        "def get_data():\n",
        "    return jsonify({\"message\": \"This is a GET request\"}), 200\n",
        "\n",
        "# POST request - Create data\n",
        "@app.route('/post-data', methods=['POST'])\n",
        "def post_data():\n",
        "    data = request.get_json()  # Get JSON data from request body\n",
        "    return jsonify({\"message\": \"Data received\", \"data\": data}), 201\n",
        "\n",
        "# PUT request - Update data\n",
        "@app.route('/put-data', methods=['PUT'])\n",
        "def put_data():\n",
        "    data = request.get_json()\n",
        "    return jsonify({\"message\": \"Data updated\", \"updated_data\": data}), 200\n",
        "\n",
        "# DELETE request - Delete data\n",
        "@app.route('/delete-data', methods=['DELETE'])\n",
        "def delete_data():\n",
        "    return jsonify({\"message\": \"Data deleted\"}), 200\n",
        "\n",
        "if __name__ == '__main__':\n",
        "    app.run(debug=True)\n"
      ],
      "metadata": {
        "id": "raN8Xg0Jco_-"
      },
      "execution_count": 3,
      "outputs": []
    },
    {
      "cell_type": "code",
      "source": [
        "#4.  How do you render HTML templates in Flask?\n",
        "\n",
        "\n",
        "In Flask, you can render **HTML templates** using the `render_template()` function and store your HTML files inside a **templates/** folder. Here's an example:\n",
        "\n",
        "### **1. Project Structure**\n",
        "```\n",
        "/flask_app\n",
        "│── app.py\n",
        "│── /templates\n",
        "│   │── index.html\n",
        "```\n",
        "\n",
        "### **2. Create `app.py` (Flask App)**\n",
        "```python\n",
        "from flask import Flask, render_template\n",
        "\n",
        "app = Flask(__name__)\n",
        "\n",
        "@app.route('/')\n",
        "def home():\n",
        "    return render_template('index.html')  # Renders the HTML template\n",
        "\n",
        "if __name__ == '__main__':\n",
        "    app.run(debug=True)\n",
        "```\n",
        "\n",
        "### **3. Create `templates/index.html` (HTML Template)**\n",
        "```html\n",
        "<!DOCTYPE html>\n",
        "<html lang=\"en\">\n",
        "<head>\n",
        "    <meta charset=\"UTF-8\">\n",
        "    <meta name=\"viewport\" content=\"width=device-width, initial-scale=1.0\">\n",
        "    <title>Flask HTML Template</title>\n",
        "</head>\n",
        "<body>\n",
        "    <h1>Welcome to Flask!</h1>\n",
        "    <p>This is a rendered HTML page.</p>\n",
        "</body>\n",
        "</html>\n",
        "```\n",
        "\n",
        "### **4. Running the App**\n",
        "Run the following command in the terminal:\n",
        "```sh\n",
        "python app.py\n",
        "```\n",
        "Then open **`http://127.0.0.1:5000/`** in your browser to see the rendered HTML page.\n",
        "\n",
        "Would you like to pass dynamic data to the template?"
      ],
      "metadata": {
        "id": "agBNmCwBc4u5"
      },
      "execution_count": null,
      "outputs": []
    },
    {
      "cell_type": "code",
      "source": [
        "#5.  How can you generate URLs for routes in Flask using url_for?\n",
        "\n",
        "from flask import Flask, url_for\n",
        "\n",
        "app = Flask(__name__)\n",
        "\n",
        "@app.route('/')\n",
        "def home():\n",
        "    return f'Home Page - Go to <a href=\"{url_for(\"about\")}\">About</a>'\n",
        "\n",
        "@app.route('/about')\n",
        "def about():\n",
        "    return 'This is the About Page'\n",
        "\n",
        "if __name__ == '__main__':\n",
        "    app.run(debug=True)\n"
      ],
      "metadata": {
        "id": "FG3jAsO-dDsr"
      },
      "execution_count": null,
      "outputs": []
    },
    {
      "cell_type": "code",
      "source": [
        "#6. How do you handle forms in Flask?\n",
        "\n",
        "from flask import Flask, render_template, request\n",
        "\n",
        "app = Flask(__name__)\n",
        "\n",
        "@app.route('/', methods=['GET', 'POST'])\n",
        "def form():\n",
        "    if request.method == 'POST':\n",
        "        name = request.form['name']  # Get data from form\n",
        "        return f'Hello, {name}!'  # Display user input\n",
        "\n",
        "    return '''\n",
        "        <form method=\"POST\">\n",
        "            <label for=\"name\">Enter your name:</label>\n",
        "            <input type=\"text\" name=\"name\" required>\n",
        "            <button type=\"submit\">Submit</button>\n",
        "        </form>\n",
        "    '''\n",
        "\n",
        "if __name__ == '__main__':\n",
        "    app.run(debug=True)\n"
      ],
      "metadata": {
        "id": "JXU6JXhndRV7"
      },
      "execution_count": null,
      "outputs": []
    },
    {
      "cell_type": "code",
      "source": [
        "#7.  How can you validate form data in Flask\n",
        "\n",
        "from flask import Flask, render_template, request\n",
        "\n",
        "app = Flask(__name__)\n",
        "\n",
        "@app.route('/', methods=['GET', 'POST'])\n",
        "def form():\n",
        "    error = None\n",
        "    if request.method == 'POST':\n",
        "        name = request.form.get('name', '').strip()\n",
        "        email = request.form.get('email', '').strip()\n",
        "\n",
        "        # Basic validation\n",
        "        if not name:\n",
        "            error = \"Name is required!\"\n",
        "        elif '@' not in email:\n",
        "            error = \"Invalid email format!\"\n",
        "        else:\n",
        "            return f\"Hello, {name}! Your email is {email}.\"\n",
        "\n",
        "    return '''\n",
        "        <form method=\"POST\">\n",
        "            <input type=\"text\" name=\"name\" placeholder=\"Enter name\" required>\n",
        "            <input type=\"email\" name=\"email\" placeholder=\"Enter email\" required>\n",
        "            <button type=\"submit\">Submit</button>\n",
        "        </form>\n",
        "        <p style=\"color: red;\">{}</p>\n",
        "    '''.format(error or '')\n",
        "\n",
        "if __name__ == '__main__':\n",
        "    app.run(debug=True)\n"
      ],
      "metadata": {
        "id": "zXiRk9twdgcP"
      },
      "execution_count": null,
      "outputs": []
    }
  ]
}